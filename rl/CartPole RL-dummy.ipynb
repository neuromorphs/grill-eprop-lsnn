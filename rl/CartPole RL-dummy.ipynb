{
 "cells": [
  {
   "cell_type": "code",
   "execution_count": 1,
   "metadata": {},
   "outputs": [],
   "source": [
    "%matplotlib inline\n",
    "import matplotlib.pyplot as plt"
   ]
  },
  {
   "cell_type": "code",
   "execution_count": 77,
   "metadata": {},
   "outputs": [],
   "source": [
    "class Delay(nengo.synapses.Synapse):\n",
    "    def __init__(self, delay, size_in=1):\n",
    "        self.delay = delay\n",
    "        super().__init__(default_size_in=size_in, default_size_out=size_in)\n",
    "\n",
    "    def make_state(self, shape_in, shape_out, dt, dtype=None, y0=None):\n",
    "        return {}\n",
    "\n",
    "    def make_step(self, shape_in, shape_out, dt, rng, state=None):\n",
    "        steps = int(self.delay/dt)\n",
    "        print('steps', steps)\n",
    "        if steps == 0:\n",
    "            def step_delay(t, x):\n",
    "                return x\n",
    "            return step_delay\n",
    "        assert steps > 0\n",
    "\n",
    "        state = np.zeros((steps, shape_in[0]))\n",
    "        state_index = np.array([0])\n",
    "\n",
    "        def step_delay(t, x, state=state, state_index=state_index):\n",
    "            result = state[state_index]\n",
    "            state[state_index] = x\n",
    "            state_index[:] = (state_index + 1) % state.shape[0]\n",
    "            return result\n",
    "\n",
    "        return step_delay"
   ]
  },
  {
   "cell_type": "code",
   "execution_count": 284,
   "metadata": {},
   "outputs": [],
   "source": [
    "import nengo_spa as spa\n",
    "import nengo\n",
    "import gym\n",
    "import logging\n",
    "gym.logger.set_level(logging.ERROR)  # suppress the error of running the model after it's done\n",
    "import numpy as np\n",
    "import pytry\n",
    "\n",
    "class CartPoleTrial(pytry.PlotTrial):\n",
    "    def params(self):\n",
    "        self.param('time to run', T=10)\n",
    "        self.param('gate error signal', gate_error=False)\n",
    "        self.param('gate future value signal', gate_future_value=False)\n",
    "        self.param('RL discount rate', gamma=0.9)\n",
    "        self.param('use SSP representation', use_ssp=False)\n",
    "        self.param('number of neurons', n_neurons=1000)\n",
    "        self.param('learning rate', learning_rate=1e-4)\n",
    "        self.param('SSP scale', ssp_scale=1)\n",
    "        self.param('normalize state', normalize_state=False)\n",
    "        self.param('sample encoders from represented space', sample_encoders=False)\n",
    "        self.param('multiplicative SSP', ssp_multiply=False)\n",
    "        self.param('cosine intercepts', cosine_intercepts=False)\n",
    "        \n",
    "    def evaluate(self, p, plt):\n",
    "        # define the OpenAI gym environment interface\n",
    "        class CartPole:\n",
    "            def __init__(self, done_time=20, reset_time=20, seed=None):\n",
    "                self.rng = np.random.RandomState(seed=seed)\n",
    "                \n",
    "                self.state = self.rng.choice([0,1])\n",
    "                self.reset_time = reset_time\n",
    "                self.done_time = done_time\n",
    "                self.reset_counter = 0\n",
    "                if p.normalize_state:\n",
    "                    self.state_scale = 1.0/np.array([0.22055888, 0.70636221, 0.44982735, 1.8954963])\n",
    "                else:\n",
    "                    self.state_scale = np.ones(4)\n",
    "                    \n",
    "            def update(self, t, x):\n",
    "                action = 0 if x[0]==1 else 1\n",
    "                if action == self.state:\n",
    "                    reward = 1\n",
    "                else:\n",
    "                    reward = -1\n",
    "                self.state = self.rng.choice([0,1])\n",
    "                \n",
    "                return [[-1,1][self.state], 0, 0, 0, reward, 0]\n",
    "        \n",
    "        # choose the style of representation to use\n",
    "        if p.use_ssp:\n",
    "            D = 128\n",
    "            vocab = spa.Vocabulary(D)\n",
    "            X = vocab.create_pointer().unitary().v\n",
    "            DX = vocab.create_pointer().unitary().v\n",
    "            A = vocab.create_pointer().unitary().v\n",
    "            DA = vocab.create_pointer().unitary().v\n",
    "            \n",
    "            def power(s, e):\n",
    "                return np.fft.ifft(np.fft.fft(s) ** e).real\n",
    "            def circ_conv(a, b):\n",
    "                return np.fft.ifft(np.fft.fft(a) * np.fft.fft(b)).real\n",
    "            \n",
    "            \n",
    "\n",
    "            if p.ssp_multiply:\n",
    "                def convert(x):\n",
    "                    return circ_conv(circ_conv(power(X, x[0]*p.ssp_scale),power(DX, x[1])) , circ_conv(power(A, x[2]*p.ssp_scale),power(DA, x[3])))\n",
    "            else:\n",
    "                def convert(x):\n",
    "                    return power(X, x[0]*p.ssp_scale) + power(DX, x[1]) + power(A, x[2]*p.ssp_scale) + power(DA, x[3])\n",
    "        else:\n",
    "            def convert(x):\n",
    "                return x\n",
    "            \n",
    "\n",
    "        # define the nengo model\n",
    "        env = CartPole(seed=p.seed)\n",
    "        model = nengo.Network()\n",
    "        with model:\n",
    "            cp = nengo.Node(env.update, size_in=2, size_out=6)\n",
    "            p_env = nengo.Probe(cp)\n",
    "\n",
    "                \n",
    "            #ns = nengo.Ensemble(n_neurons=p.n_neurons, \n",
    "            #                    dimensions=D if p.use_ssp else 4,\n",
    "            #                    radius=1 if p.use_ssp else 2,\n",
    "            #                    neuron_type=nengo.RectifiedLinear())\n",
    "            \n",
    "            ens = nengo.Ensemble(n_neurons=2,\n",
    "                                dimensions=4,\n",
    "                                encoders=[[1,0,0,0], [-1,0,0,0]],\n",
    "                                 intercepts=[0.5,0.5],\n",
    "                                 max_rates=[100,100],\n",
    "                                 neuron_type=nengo.RectifiedLinear())\n",
    "            \n",
    "            \n",
    "            if p.use_ssp and p.sample_encoders:\n",
    "                encoders = []\n",
    "                for i in range(ens.n_neurons):\n",
    "                    x = np.random.uniform(-1, 1, size=4)\n",
    "                    e = convert([x[0]*2, x[1]*2, x[2]*2, x[3]*2])\n",
    "                    encoders.append(e)\n",
    "                ens.encoders = np.array(encoders)\n",
    "                \n",
    "              \n",
    "            if p.cosine_intercepts:\n",
    "                ens.intercepts = nengo.dists.CosineSimilarity(ens.dimensions+2)\n",
    "            #ens.intercepts=nengo.dists.Uniform(-0.5, 1)\n",
    "            nengo.Connection(cp[:4], ens, function=convert, synapse=None)\n",
    "                \n",
    "            v = nengo.Node(None, size_in=1)\n",
    "            c = nengo.Connection(ens.neurons, v, transform=np.zeros((1, ens.n_neurons)), \n",
    "                                 learning_rule_type=nengo.PES(learning_rate=p.learning_rate, pre_synapse=0),\n",
    "                                 synapse=None)\n",
    "\n",
    "\n",
    "            error = nengo.Node(None, size_in=1)\n",
    "            nengo.Connection(cp[4], error, transform=-1, synapse=0)\n",
    "            nengo.Connection(v, error, transform=1, synapse=0)\n",
    "\n",
    "            if p.gate_future_value:\n",
    "                gated_value = nengo.Node(lambda t, x: x[0] if (x[1]==0) else 0, size_in=2, size_out=1)\n",
    "                nengo.Connection(v, gated_value[0], synapse=None)\n",
    "                nengo.Connection(cp[5], gated_value[1], synapse=None)\n",
    "                nengo.Connection(gated_value, error, transform=-p.gamma, synapse=None)\n",
    "            else:\n",
    "                nengo.Connection(v, error, transform=-p.gamma, synapse=None)\n",
    "\n",
    "            if p.gate_error:\n",
    "                gate = nengo.Node(lambda t, x: x[0] if (x[1]==0) else 0, size_in=2, size_out=1)\n",
    "                nengo.Connection(error, gate[0], synapse=None)\n",
    "                nengo.Connection(cp[5], gate[1], synapse=None)\n",
    "                nengo.Connection(gate, c.learning_rule, transform=1, synapse=None)\n",
    "            else:\n",
    "                nengo.Connection(error, c.learning_rule, transform=1, synapse=None)\n",
    "\n",
    "            p_v = nengo.Probe(v)\n",
    "            \n",
    "            tau_fast = None\n",
    "            tau_slow = 0\n",
    "            # the raw output from the network\n",
    "            raw_actions = nengo.Node(None, size_in=2, label='raw_actions')\n",
    "\n",
    "            # compute the softmax\n",
    "            def softmax(t, x):\n",
    "                scale = 10\n",
    "                #try:\n",
    "                return np.exp(x*scale)/np.sum(np.exp(x*scale))\n",
    "                #except FloatingPointError:\n",
    "                #    return np.eye(len(x))[0]\n",
    "            actions = nengo.Node(softmax, size_in=2, label='actions')\n",
    "            nengo.Connection(raw_actions, actions, synapse=None)\n",
    "\n",
    "            # do the random sampling and output which action we're taking\n",
    "            #  (here I just decided to represent choosing the action as +1 and not choosing as -1)\n",
    "            def choice_func(t, x):\n",
    "                c = np.random.choice(np.arange(2), p=x)\n",
    "                #c = 0\n",
    "                result = [-1, -1]\n",
    "                result[c] = 1\n",
    "                return result\n",
    "            choice = nengo.Node(choice_func, size_in=2, size_out=2, label='choice')\n",
    "            nengo.Connection(actions, choice, synapse=None)\n",
    "\n",
    "            # and now connect the choice to the environment\n",
    "            nengo.Connection(choice, cp, synapse=0)\n",
    "\n",
    "            # and here is the computation of the error signal\n",
    "            c_actor = nengo.Connection(ens.neurons, raw_actions, transform=np.zeros((2, ens.n_neurons)), \n",
    "            #c_actor = nengo.Connection(ens, raw_actions, function=lambda x: [1,-1] if x[0]<0.5 else [-1,1], \n",
    "                                       learning_rule_type=nengo.PES(learning_rate=1e-5, pre_synapse=Delay(0.02)),\n",
    "                                       synapse=None)\n",
    "\n",
    "            # implement the advantage actor-critic error rule\n",
    "            #  the Node gets 5 inputs: the delta for the critic part, 2 values indicating which action was chosen\n",
    "            #  (+1 for the chosen and -1 for the non-chosen ones), and the choice probabilities for the 2 actions\n",
    "            def actor_error_func(t, x):\n",
    "                delta = x[0]\n",
    "                chosen = x[1:3]\n",
    "                prob = x[3:5]\n",
    "                # compute the error\n",
    "                e = np.where(chosen>0, delta*(1-prob), -delta*prob)\n",
    "                # = np.where(chosen>0, delta, -delta)\n",
    "                \n",
    "                if t<10:\n",
    "                    e = e * 0\n",
    "                return e\n",
    "\n",
    "            actor_error = nengo.Node(actor_error_func, size_in=5, label='actor_error')\n",
    "            nengo.Connection(error, actor_error[0], synapse=None)\n",
    "            nengo.Connection(choice, actor_error[1:3], synapse=None)\n",
    "            nengo.Connection(actions, actor_error[3:5], synapse=None)\n",
    "            nengo.Connection(actor_error, c_actor.learning_rule, transform=-1, synapse=None) \n",
    "            \n",
    "            p_raw_actions = nengo.Probe(raw_actions)\n",
    "            p_prob = nengo.Probe(actions)\n",
    "            p_error = nengo.Probe(error)\n",
    "            p_actor_error = nengo.Probe(actor_error)\n",
    "            p_choice = nengo.Probe(choice)\n",
    "            p_ens = nengo.Probe(ens)\n",
    "\n",
    "            \n",
    "            \n",
    "            \n",
    "\n",
    "        # run the model\n",
    "        sim = nengo.Simulator(model, dt=0.01)\n",
    "        sim.run(p.T)\n",
    "        \n",
    "        # make the summary plot, if asked\n",
    "        if plt:\n",
    "            v = sim.data[p_v]\n",
    "            \n",
    "            #plt.plot(v)\n",
    "            plt.subplot(3, 1, 1)\n",
    "            plt.plot(sim.data[p_ens])\n",
    "            #plt.plot(sim.data[p_raw_actions], label='raw')\n",
    "            #plt.plot(sim.data[p_prob], label='prob')\n",
    "            plt.legend()\n",
    "            plt.subplot(3, 1, 2)\n",
    "            plt.plot(sim.data[p_env][:,0], label='state')\n",
    "            plt.plot(sim.data[p_env][:,4], label='reward', lw=3)\n",
    "            plt.plot(sim.data[p_error], label='critic error')\n",
    "            plt.plot(sim.data[p_v], label='predicted value')\n",
    "            plt.legend()\n",
    "            \n",
    "            plt.subplot(3, 1, 3)\n",
    "            #plt.plot(sim.data[p_choice], label='choice')\n",
    "            #plt.plot(sim.data[p_actor_error], label='actor error')\n",
    "            plt.plot(sim.data[p_raw_actions], label='raw actions')\n",
    "            \n",
    "            plt.legend()\n",
    "            \n",
    "            \n",
    "            \n",
    "        # return the raw environment data and the decoded value\n",
    "        return dict(v=sim.data[p_v], env=sim.data[p_env], \n",
    "                    raw_actions=sim.data[p_raw_actions], prob=sim.data[p_prob], model=model)"
   ]
  },
  {
   "cell_type": "code",
   "execution_count": 292,
   "metadata": {},
   "outputs": [
    {
     "data": {
      "application/vdom.v1+json": {
       "attributes": {},
       "tagName": "div"
      },
      "text/html": [
       "\n",
       "                <script>\n",
       "                    if (Jupyter.version.split(\".\")[0] < 5) {\n",
       "                        var pb = document.getElementById(\"57f93c9f-0788-4968-9d8d-a01064b84fb6\");\n",
       "                        var text = document.createTextNode(\n",
       "                            \"HMTL progress bar requires Jupyter Notebook >= \" +\n",
       "                            \"5.0 or Jupyter Lab. Alternatively, you can use \" +\n",
       "                            \"TerminalProgressBar().\");\n",
       "                        pb.parentNode.insertBefore(text, pb);\n",
       "                    }\n",
       "                </script>\n",
       "                <div id=\"57f93c9f-0788-4968-9d8d-a01064b84fb6\" style=\"\n",
       "                    width: 100%;\n",
       "                    border: 1px solid #cfcfcf;\n",
       "                    border-radius: 4px;\n",
       "                    text-align: center;\n",
       "                    position: relative;\">\n",
       "                  <div class=\"pb-text\" style=\"\n",
       "                      position: absolute;\n",
       "                      width: 100%;\">\n",
       "                    0%\n",
       "                  </div>\n",
       "                  <div class=\"pb-fill\" style=\"\n",
       "                      background-color: #bdd2e6;\n",
       "                      width: 0%;\">\n",
       "                    <style type=\"text/css\" scoped=\"scoped\">\n",
       "                        @keyframes pb-fill-anim {\n",
       "                            0% { background-position: 0 0; }\n",
       "                            100% { background-position: 100px 0; }\n",
       "                        }\n",
       "                    </style>\n",
       "                    &nbsp;\n",
       "                  </div>\n",
       "                </div>"
      ],
      "text/plain": [
       "HtmlProgressBar cannot be displayed. Please use the TerminalProgressBar. It can be enabled with `nengo.rc.set('progress', 'progress_bar', 'nengo.utils.progress.TerminalProgressBar')`."
      ]
     },
     "metadata": {},
     "output_type": "display_data"
    },
    {
     "data": {
      "application/vdom.v1+json": {
       "attributes": {
        "id": "cb865eb2-3806-41ae-b863-1f5ca10872f6",
        "style": {
         "border": "1px solid #cfcfcf",
         "borderRadius": "4px",
         "boxSizing": "border-box",
         "position": "relative",
         "textAlign": "center",
         "width": "100%"
        }
       },
       "children": [
        {
         "attributes": {
          "class": "pb-text",
          "style": {
           "position": "absolute",
           "width": "100%"
          }
         },
         "children": [
          "Build finished in 0:00:01."
         ],
         "tagName": "div"
        },
        {
         "attributes": {
          "class": "pb-fill",
          "style": {
           "animation": "none",
           "backgroundColor": "#bdd2e6",
           "backgroundImage": "none",
           "backgroundSize": "100px 100%",
           "width": "100%"
          }
         },
         "children": [
          {
           "attributes": {
            "scoped": "scoped",
            "type": "text/css"
           },
           "children": [
            "\n                        @keyframes pb-fill-anim {\n                            0% { background-position: 0 0; }\n                            100% { background-position: 100px 0; }\n                        }}"
           ],
           "tagName": "style"
          },
          " "
         ],
         "tagName": "div"
        }
       ],
       "tagName": "div"
      },
      "text/html": [
       "<script>\n",
       "              (function () {\n",
       "                  var root = document.getElementById('57f93c9f-0788-4968-9d8d-a01064b84fb6');\n",
       "                  var text = root.getElementsByClassName('pb-text')[0];\n",
       "                  var fill = root.getElementsByClassName('pb-fill')[0];\n",
       "\n",
       "                  text.innerHTML = 'Build finished in 0:00:01.';\n",
       "                  \n",
       "            fill.style.width = '100%';\n",
       "            fill.style.animation = 'pb-fill-anim 2s linear infinite';\n",
       "            fill.style.backgroundSize = '100px 100%';\n",
       "            fill.style.backgroundImage = 'repeating-linear-gradient(' +\n",
       "                '90deg, #bdd2e6, #edf2f8 40%, #bdd2e6 80%, #bdd2e6)';\n",
       "        \n",
       "                  \n",
       "                fill.style.animation = 'none';\n",
       "                fill.style.backgroundImage = 'none';\n",
       "            \n",
       "              })();\n",
       "        </script>"
      ]
     },
     "metadata": {},
     "output_type": "display_data"
    },
    {
     "name": "stdout",
     "output_type": "stream",
     "text": [
      "steps 2\n"
     ]
    },
    {
     "data": {
      "application/vdom.v1+json": {
       "attributes": {},
       "tagName": "div"
      },
      "text/html": [
       "\n",
       "                <script>\n",
       "                    if (Jupyter.version.split(\".\")[0] < 5) {\n",
       "                        var pb = document.getElementById(\"214bd491-5424-4cfc-8098-eb2ee6088186\");\n",
       "                        var text = document.createTextNode(\n",
       "                            \"HMTL progress bar requires Jupyter Notebook >= \" +\n",
       "                            \"5.0 or Jupyter Lab. Alternatively, you can use \" +\n",
       "                            \"TerminalProgressBar().\");\n",
       "                        pb.parentNode.insertBefore(text, pb);\n",
       "                    }\n",
       "                </script>\n",
       "                <div id=\"214bd491-5424-4cfc-8098-eb2ee6088186\" style=\"\n",
       "                    width: 100%;\n",
       "                    border: 1px solid #cfcfcf;\n",
       "                    border-radius: 4px;\n",
       "                    text-align: center;\n",
       "                    position: relative;\">\n",
       "                  <div class=\"pb-text\" style=\"\n",
       "                      position: absolute;\n",
       "                      width: 100%;\">\n",
       "                    0%\n",
       "                  </div>\n",
       "                  <div class=\"pb-fill\" style=\"\n",
       "                      background-color: #bdd2e6;\n",
       "                      width: 0%;\">\n",
       "                    <style type=\"text/css\" scoped=\"scoped\">\n",
       "                        @keyframes pb-fill-anim {\n",
       "                            0% { background-position: 0 0; }\n",
       "                            100% { background-position: 100px 0; }\n",
       "                        }\n",
       "                    </style>\n",
       "                    &nbsp;\n",
       "                  </div>\n",
       "                </div>"
      ],
      "text/plain": [
       "HtmlProgressBar cannot be displayed. Please use the TerminalProgressBar. It can be enabled with `nengo.rc.set('progress', 'progress_bar', 'nengo.utils.progress.TerminalProgressBar')`."
      ]
     },
     "metadata": {},
     "output_type": "display_data"
    },
    {
     "data": {
      "application/vdom.v1+json": {
       "attributes": {
        "id": "1abe75c3-5759-4c00-91e3-bc1a2bbbb84b",
        "style": {
         "border": "1px solid #cfcfcf",
         "borderRadius": "4px",
         "boxSizing": "border-box",
         "position": "relative",
         "textAlign": "center",
         "width": "100%"
        }
       },
       "children": [
        {
         "attributes": {
          "class": "pb-text",
          "style": {
           "position": "absolute",
           "width": "100%"
          }
         },
         "children": [
          "Simulation finished in 0:00:45."
         ],
         "tagName": "div"
        },
        {
         "attributes": {
          "class": "pb-fill",
          "style": {
           "animation": "none",
           "backgroundColor": "#bdd2e6",
           "backgroundImage": "none",
           "transition": "width 0.1s linear",
           "width": "100%"
          }
         },
         "children": [
          {
           "attributes": {
            "scoped": "scoped",
            "type": "text/css"
           },
           "children": [
            "\n                        @keyframes pb-fill-anim {\n                            0% { background-position: 0 0; }\n                            100% { background-position: 100px 0; }\n                        }}"
           ],
           "tagName": "style"
          },
          " "
         ],
         "tagName": "div"
        }
       ],
       "tagName": "div"
      },
      "text/html": [
       "<script>\n",
       "              (function () {\n",
       "                  var root = document.getElementById('214bd491-5424-4cfc-8098-eb2ee6088186');\n",
       "                  var text = root.getElementsByClassName('pb-text')[0];\n",
       "                  var fill = root.getElementsByClassName('pb-fill')[0];\n",
       "\n",
       "                  text.innerHTML = 'Simulation finished in 0:00:45.';\n",
       "                  \n",
       "            if (100.0 > 0.) {\n",
       "                fill.style.transition = 'width 0.1s linear';\n",
       "            } else {\n",
       "                fill.style.transition = 'none';\n",
       "            }\n",
       "\n",
       "            fill.style.width = '100.0%';\n",
       "            fill.style.animation = 'none';\n",
       "            fill.style.backgroundImage = 'none'\n",
       "        \n",
       "                  \n",
       "                fill.style.animation = 'none';\n",
       "                fill.style.backgroundImage = 'none';\n",
       "            \n",
       "              })();\n",
       "        </script>"
      ]
     },
     "metadata": {},
     "output_type": "display_data"
    },
    {
     "name": "stderr",
     "output_type": "stream",
     "text": [
      "No handles with labels found to put in legend.\n"
     ]
    },
    {
     "data": {
      "image/png": "[encoded data removed]",
      "text/plain": [
       "<Figure size 864x576 with 3 Axes>"
      ]
     },
     "metadata": {
      "needs_background": "light"
     },
     "output_type": "display_data"
    }
   ],
   "source": [
    "plt.figure(figsize=(12,8))\n",
    "r = CartPoleTrial().run(data_dir=None, verbose=False, T=1000, plt=plt, use_ssp=False, ssp_scale=10, \n",
    "                        sample_encoders=False, cosine_intercepts=False, learning_rate=1e-5, gamma=0.9, seed=1)"
   ]
  },
  {
   "cell_type": "code",
   "execution_count": 293,
   "metadata": {},
   "outputs": [
    {
     "data": {
      "text/plain": [
       "[<matplotlib.lines.Line2D at 0x2a69f7797c0>]"
      ]
     },
     "execution_count": 293,
     "metadata": {},
     "output_type": "execute_result"
    },
    {
     "data": {
      "image/png": "[encoded data removed]",
      "text/plain": [
       "<Figure size 864x432 with 1 Axes>"
      ]
     },
     "metadata": {
      "needs_background": "light"
     },
     "output_type": "display_data"
    }
   ],
   "source": [
    "plt.figure(figsize=(12,6))\n",
    "plt.plot(r['prob'])\n",
    "plt.plot(r['env'][:,0]-2, label='reset', lw=3)\n"
   ]
  },
  {
   "cell_type": "code",
   "execution_count": 294,
   "metadata": {},
   "outputs": [
    {
     "data": {
      "text/plain": [
       "[<matplotlib.lines.Line2D at 0x2a69e0d5b50>]"
      ]
     },
     "execution_count": 294,
     "metadata": {},
     "output_type": "execute_result"
    },
    {
     "data": {
      "image/png": "[encoded data removed]",
      "text/plain": [
       "<Figure size 432x288 with 1 Axes>"
      ]
     },
     "metadata": {
      "needs_background": "light"
     },
     "output_type": "display_data"
    }
   ],
   "source": [
    "\n",
    "plt.plot(nengo.synapses.Lowpass(0.1).filt(r['env'][:,4]))"
   ]
  },
  {
   "cell_type": "code",
   "execution_count": 288,
   "metadata": {},
   "outputs": [
    {
     "data": {
      "text/plain": [
       "[<matplotlib.lines.Line2D at 0x2a685b6a550>]"
      ]
     },
     "execution_count": 288,
     "metadata": {},
     "output_type": "execute_result"
    },
    {
     "data": {
      "image/png": "[encoded data removed]",
      "text/plain": [
       "<Figure size 432x288 with 1 Axes>"
      ]
     },
     "metadata": {
      "needs_background": "light"
     },
     "output_type": "display_data"
    }
   ],
   "source": [
    "plt.plot(nengo.synapses.Lowpass(0.1).filt(r['v']))\n",
    "#plt.xlim(40000,60000)\n",
    "#plt.ylim(-100,100)"
   ]
  },
  {
   "cell_type": "code",
   "execution_count": 266,
   "metadata": {},
   "outputs": [
    {
     "data": {
      "text/plain": [
       "[<matplotlib.lines.Line2D at 0x2a6ceef7c10>,\n",
       " <matplotlib.lines.Line2D at 0x2a6ceef7d00>]"
      ]
     },
     "execution_count": 266,
     "metadata": {},
     "output_type": "execute_result"
    },
    {
     "data": {
      "image/png": "[encoded data removed]",
      "text/plain": [
       "<Figure size 432x288 with 1 Axes>"
      ]
     },
     "metadata": {
      "needs_background": "light"
     },
     "output_type": "display_data"
    }
   ],
   "source": [
    "plt.plot(r['prob'])"
   ]
  },
  {
   "cell_type": "code",
   "execution_count": null,
   "metadata": {},
   "outputs": [],
   "source": []
  }
 ],
 "metadata": {
  "kernelspec": {
   "display_name": "Python 3",
   "language": "python",
   "name": "python3"
  },
  "language_info": {
   "codemirror_mode": {
    "name": "ipython",
    "version": 3
   },
   "file_extension": ".py",
   "mimetype": "text/x-python",
   "name": "python",
   "nbconvert_exporter": "python",
   "pygments_lexer": "ipython3",
   "version": "3.8.3"
  }
 },
 "nbformat": 4,
 "nbformat_minor": 4
}
